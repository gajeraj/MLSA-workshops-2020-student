{
 "cells": [
  {
   "cell_type": "markdown",
   "metadata": {},
   "source": [
    "# Workshop PR03 (optional): Other ways of setting up workspace"
   ]
  },
  {
   "cell_type": "markdown",
   "metadata": {},
   "source": [
    "Recall from workshop PR01, we have set up workspace on our own computer. Now there are other ways of setting up workspace for faster and better ML performance. "
   ]
  },
  {
   "cell_type": "markdown",
   "metadata": {},
   "source": [
    "## Option 2: Setting up Jupyter Notebook with Docker "
   ]
  },
  {
   "cell_type": "markdown",
   "metadata": {},
   "source": [
    "### 1.) Conventional Docker image for Jupyter-Notebook \n",
    "First install Docker. Then pull the jupyter image from Docker Hub if not present on local machine and then starts the server on port 8888. This is done by the following simple command, \n",
    "\n",
    "> $ docker run -d -P --name notebook jupyter/all-spark-notebook"
   ]
  },
  {
   "cell_type": "markdown",
   "metadata": {},
   "source": [
    "### 2.) Building your own custom Docker image\n",
    "If you want to specify a seperate customised Docker image, then build a docker image from the following Dockerfile. To build the image go to the directory location of the Dockerfile and type the following command to build the image, \n",
    "\n",
    "> $ Docker build -t img_name .   "
   ]
  },
  {
   "cell_type": "code",
   "execution_count": null,
   "metadata": {},
   "outputs": [],
   "source": [
    "#########The Dockerfile ########\n",
    "\n",
    "# get the latests repo from ubuntu\n",
    "FROM \"ubuntu:latest\"\n",
    "RUN apt-get update && yes | apt-get upgrade > /dev/null 2>&1\n",
    "\n",
    "\n",
    "# installations of python packages \n",
    "RUN apt-get -qq install -y git python3-pip python3-dev protobuf-compiler python-pil python-lxml libsm6 libxrender1 libfontconfig1 > /dev/null 2>&1\n",
    "\n",
    "\n",
    "# python modules\n",
    "RUN pip3 install tensorflow > /dev/null 2>&1\n",
    "RUN pip3 install opencv-contrib-python > /dev/null 2>&1\n",
    "RUN pip3 install jupyter > /dev/null 2>&1\n",
    "RUN pip3 install matplotlib > /dev/null 2>&1\n",
    "RUN pip3 install pillow > /dev/null 2>&1\n",
    "\n",
    "\n",
    "# PYTHONPATH augment the default search path for module files.\n",
    "RUN export PYTHONPATH=$PYTHONPATH:pwd:pwd/slim\n",
    "RUN jupyter notebook --generate-config --allow-root\n",
    "RUN echo \"c.NotebookApp.password = u'sha1:6a3f528eec40:6e896b6e4828f525a6e20e5411cd1c8075d68619'\" >> /root/.jupyter/jupyter_notebook_config.py\n",
    "\n",
    "\n",
    "EXPOSE 8888\n",
    "CMD [\"jupyter\", \"notebook\", \"--allow-root\", \"--notebook-dir=/tensorflow/models/research/object_detection\", \"--port=8888\", \"--no-browser\", \"--ip=0.0.0.0\"]"
   ]
  },
  {
   "cell_type": "markdown",
   "metadata": {},
   "source": [
    "## Option 3: GCP instance"
   ]
  },
  {
   "cell_type": "markdown",
   "metadata": {},
   "source": [
    "#### Step 1:\n",
    "Please refer the following link for signing up to Google Cloud Console, \n",
    "\n",
    "https://accounts.google.com/signin/v2/identifier?service=cloudconsole&passive=1209600&osid=1&continue=https%3A%2F%2Fconsole.cloud.google.com%2Fcompute&followup=https%3A%2F%2Fconsole.cloud.google.com%2Fcompute&flowName=GlifWebSignIn&flowEntry=ServiceLogin\n",
    "\n",
    "After entering you credit card details (You will not be charged untill you exceed your $400 credit limit, plus when you exceed the credit limit you get a notification so dont have to worry)  and complete the sign up process. "
   ]
  },
  {
   "cell_type": "markdown",
   "metadata": {},
   "source": [
    "#### Step 2:\n",
    "\n",
    "Once you complete the sign up in step one go to **compute engine >> VM instances** \n",
    "and click on \"Create new instance\". Once you're in the VM details page, enter the following details for the VM instance Details"
   ]
  },
  {
   "cell_type": "markdown",
   "metadata": {},
   "source": [
    "| Option                   |      chose                                           | \n",
    "| ------------------------ |-----------------------------------------------------:| \n",
    "| **Boot Disk**            | Ubuntu 16.04 LTS                                     |\n",
    "| **Zone**                 | Australia (any where)                                | \n",
    "| **CPU's**                | Number of CPUs as you wish, but the upper limit is 8 | \n",
    "| **Identify & API Access**| Tick allow default access                            |\n",
    "| **Firewall**             | Click Allow HTTP & HTTPS traffic                     |\n",
    "| **Deletion Rule**        | Keep it unticked                                     |\n",
    "\n",
    "Once you enter the details Click \"Create\", DONE!!!! Now your cloud instance is created "
   ]
  },
  {
   "cell_type": "markdown",
   "metadata": {},
   "source": [
    "**IMPORTANT: Now you should see instance-1 (whatever the instance name you chose) with a green tick indicating the instance is running. Click on the 3 dots at the end, followed by STOP option to stop the instance. If you do not not stop it the instance will keep on running and you will be charged on hourly basis (instance with high performance will cost even more on hourly basis)**"
   ]
  },
  {
   "cell_type": "markdown",
   "metadata": {},
   "source": [
    "**Step 3:**\n",
    "\n",
    "Now make the ecternal IP of the VM instance static for convenient ssh access. ( You will not be charged for static IP as long as you frequantly use the VM instance). Guide your self to **VPC Network >> External IP addresses** and change the tpye from **Euphemerical** to **Static**"
   ]
  },
  {
   "cell_type": "markdown",
   "metadata": {},
   "source": [
    "**Step 4:**\n",
    "\n",
    "Now giude youre self to **VPC Network >> Firewall Rule** and click \"Create New Rule\" then add the following specifications,\n",
    "\n",
    "| Option                   |      chose                              | \n",
    "| ------------------------ |----------------------------------------:| \n",
    "| **Network**              | Default                                 |\n",
    "| **priority**             | 1000                                    | \n",
    "| **Direction**            | Ingress                                 | \n",
    "| **Action on Match**      | Allow                                   |\n",
    "| **Target**               | All instances on the network            |\n",
    "| **Source Filter**        | IP Ranges                               |\n",
    "| **Source IP Ranges**     | 0.0.0.0/0                               |\n",
    "| **Second Source Filter** | None                                    |\n",
    "| **Protocols and Ports**  | Specified protocols and ports > tcp:5000|"
   ]
  },
  {
   "cell_type": "markdown",
   "metadata": {},
   "source": [
    "#### Step 5:\n",
    "\n",
    "Now Proceed to you VM instances page ( Compute engine >> VM Instances ) and start the VM instance. Give it a few seconds, then proceed to click **SSH** button to start the shell session. Now a pop up shell will appear and we will do some more configuration in the cloud instance. \n",
    "\n",
    "i) Download Anaconda:\n",
    "> $ wget http://repo.continuum.io/archive/Anaconda3-4.0.0-Linux-x86_64.sh\n",
    "\n",
    "ii) Install Anaconda: (Click yes to all once you enter the below command)\n",
    "> $ bash Anaconda3-4.0.0-Linux-x86_64.sh\n",
    "    \n",
    "iii) Source it:\n",
    "> $ source ~/.bashrc\n",
    "   \n",
    "iv) Update Anaconda for latest version:\n",
    "> $ conda update anaconda\n",
    "\n",
    "v) install the main ML framework which has many important dependencies:\n",
    "> $ pip install tensorflow\n",
    "\n",
    "vi) generate jupyter configuration file \n",
    "> $ jupyter notebook --generate-config\n",
    "    \n",
    "vii) Edit the configuration file\n",
    "\n",
    "> $ nano ~/.jupyter/jupyter_notebook_config.py\n",
    "    \n",
    "and copy paste following lines \n",
    "    \n",
    "    c = get_config()\n",
    "    c.NotebookApp.ip = '*'\n",
    "    c.NotebookApp.open_browser = False\n",
    "    c.NotebookApp.port = <Port Number> # since we allow port 5000 in the firewall rule, put 5000\n",
    " \n",
    "**DONE** Now type the follwoing to start up the jupyter server \n",
    "\n",
    "> $ jupyter-notebook --no-browser --port=5000\n",
    "    \n",
    "Now it should start a jupyter session on your chrome browser "
   ]
  },
  {
   "cell_type": "markdown",
   "metadata": {},
   "source": [
    "#### Step 5: (Optional )\n",
    "\n",
    "This step will show you a conveneint way of manageing all your VM instances from your local machine through the gcloud SDK. This is also very useful than the cloud shell session, as it is much much faster. It also allowes you to have multiple SSH sessions for managing files, monitoring CPU load and etc \n",
    "\n",
    "\n"
   ]
  },
  {
   "cell_type": "markdown",
   "metadata": {},
   "source": [
    "Follow the link and install the specific gcloud SDK version on your computer \n",
    "\n",
    "https://cloud.google.com/sdk/docs/quickstart-macos (This is for MacOS)\n",
    "\n",
    "i) Following installation initialize gcloud as follows, this will giude you to sign into your GCP account, \n",
    "\n",
    "> $ gcloud init    \n",
    "\n",
    "(Windows/Linux/Mac: Install git from here https://git-scm.com/downloads)\n",
    "\n",
    "ii) Generate a public SSH key in the VM instance ssh keys page, If you do have a SSH key already skip to the following step, \n",
    "\n",
    "> $ ssh-keygen -t rsa -b 4096 -C \"your_email@example.com\"\n",
    "\n",
    "iii) Now copy  the SSH key to your clipboard (Windows: Install git from here https://git-scm.com/downloads)\n",
    "\n",
    "> $ pbcopy < ~/.ssh/id_rsa.pub\n",
    "\n",
    "    \n",
    "iv) Go to GCP >> VM instances >> edit >> edit SSH keys, and paste the SSH key. replace last bit of the SSH key with your e-mail prefix. The click save. \n",
    "\n",
    "v) Now go to your local machine and type, this will list you all the available VM instances and their status \n",
    "\n",
    "> $ gcloud compute instances list \n",
    "    \n",
    "vi) Now start the VM instance you want by typing the following command, \n",
    "\n",
    "> $ gcloud compute instances EXTERNAL_IP_of_VM\n",
    "    \n",
    "vii) After theinstance is running, type the following command to SSH, \n",
    "\n",
    "> $ ssh username@EXTERNAL_IP_of_VM\n",
    "\n",
    "viii) Then inside the shell type, \n",
    "\n",
    "> $ jupyter-notebook --no-browser --port=5000\n",
    "    \n",
    "ix) Go to your web browser and type the following in the URL bar,\n",
    "\n",
    "> $ EXTERNAL_IP_of_VM:5000\n",
    " \n"
   ]
  }
 ],
 "metadata": {
  "kernelspec": {
   "display_name": "Python 3",
   "language": "python",
   "name": "python3"
  },
  "language_info": {
   "codemirror_mode": {
    "name": "ipython",
    "version": 3
   },
   "file_extension": ".py",
   "mimetype": "text/x-python",
   "name": "python",
   "nbconvert_exporter": "python",
   "pygments_lexer": "ipython3",
   "version": "3.6.8"
  }
 },
 "nbformat": 4,
 "nbformat_minor": 2
}
